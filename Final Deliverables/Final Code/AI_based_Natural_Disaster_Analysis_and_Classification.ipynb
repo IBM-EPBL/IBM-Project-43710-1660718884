{
  "nbformat": 4,
  "nbformat_minor": 0,
  "metadata": {
    "colab": {
      "provenance": []
    },
    "kernelspec": {
      "name": "python3",
      "display_name": "Python 3"
    },
    "language_info": {
      "name": "python"
    }
  },
  "cells": [
    {
      "cell_type": "markdown",
      "source": [
        " Natural Disasters Intensity Analysis and Classification using Artificial Intelligence"
      ],
      "metadata": {
        "id": "8TWZhbi5gPkE"
      }
    },
    {
      "cell_type": "code",
      "execution_count": null,
      "metadata": {
        "id": "XdSPLT2QeBK2"
      },
      "outputs": [],
      "source": [
        "import numpy as np#used for numerical analysis\n",
        "import tensorflow #open source used for both ML and DL for computation\n",
        "from tensorflow.keras.models import Sequential #it is a plain stack of layers\n",
        "from tensorflow.keras import layers #A layer consists of a tensor-in tensor-out computation function\n",
        "#Dense layer is the regular deeply connected neural network layer\n",
        "from tensorflow.keras.layers import Dense,Flatten\n",
        "#Faltten-used fot flattening the input or change the dimension\n",
        "from tensorflow.keras.layers import Conv2D,MaxPooling2D #Convolutional layer\n",
        "#MaxPooling2D-for downsampling the image\n",
        "from keras.preprocessing.image import ImageDataGenerator\n",
        "import keras\n",
        "import tensorflow as tf\n",
        "from tensorflow.keras.utils import load_img, img_to_array"
      ]
    },
    {
      "cell_type": "code",
      "source": [
        "tensorflow.__version__"
      ],
      "metadata": {
        "colab": {
          "base_uri": "https://localhost:8080/",
          "height": 35
        },
        "id": "CztfDnkigZmQ",
        "outputId": "815f5633-d7ca-449f-ee8a-987b544b2f13"
      },
      "execution_count": null,
      "outputs": [
        {
          "output_type": "execute_result",
          "data": {
            "text/plain": [
              "'2.9.2'"
            ],
            "application/vnd.google.colaboratory.intrinsic+json": {
              "type": "string"
            }
          },
          "metadata": {},
          "execution_count": 14
        }
      ]
    },
    {
      "cell_type": "code",
      "source": [
        "tensorflow.keras.__version__"
      ],
      "metadata": {
        "colab": {
          "base_uri": "https://localhost:8080/",
          "height": 35
        },
        "id": "Sjzvk1fCh8ez",
        "outputId": "0fcdec07-a64a-4742-99ab-214c442c17d4"
      },
      "execution_count": null,
      "outputs": [
        {
          "output_type": "execute_result",
          "data": {
            "text/plain": [
              "'2.9.0'"
            ],
            "application/vnd.google.colaboratory.intrinsic+json": {
              "type": "string"
            }
          },
          "metadata": {},
          "execution_count": 15
        }
      ]
    },
    {
      "cell_type": "markdown",
      "source": [
        "**Image Data Agumentation**"
      ],
      "metadata": {
        "id": "nOnQGU8viMQ2"
      }
    },
    {
      "cell_type": "code",
      "source": [
        "#setting parameter for Image Data agumentation to the training data\n",
        "train_datagen = ImageDataGenerator(rescale=1./255,shear_range=0.2,zoom_range=0.2,horizontal_flip=True)\n",
        "#Image Data agumentation to the testing data\n",
        "test_datagen=ImageDataGenerator(rescale=1./255)"
      ],
      "metadata": {
        "id": "Kwo9B5fliCyD"
      },
      "execution_count": null,
      "outputs": []
    },
    {
      "cell_type": "markdown",
      "source": [
        "**Loading our data and performing data agumentation**"
      ],
      "metadata": {
        "id": "V67wMXlukcSJ"
      }
    },
    {
      "cell_type": "code",
      "source": [
        "#performing data agumentation to train data\n",
        "x_train = train_datagen.flow_from_directory(r'/content/drive/MyDrive/dataset/dataset/test_set',target_size=(64, 64),batch_size=5,\n",
        "                                            color_mode='rgb',class_mode='categorical')\n",
        "#performing data agumentation to test data\n",
        "x_test = test_datagen.flow_from_directory(r'/content/drive/MyDrive/dataset/dataset/test_set',target_size=(64, 64),batch_size=5,\n",
        "                                            color_mode='rgb',class_mode='categorical') "
      ],
      "metadata": {
        "colab": {
          "base_uri": "https://localhost:8080/"
        },
        "id": "eCKC9JhdkbQc",
        "outputId": "8971adc7-1846-4ca4-9ed4-de3df6620343"
      },
      "execution_count": null,
      "outputs": [
        {
          "output_type": "stream",
          "name": "stdout",
          "text": [
            "Found 198 images belonging to 4 classes.\n",
            "Found 198 images belonging to 4 classes.\n"
          ]
        }
      ]
    },
    {
      "cell_type": "code",
      "source": [
        "from google.colab import drive\n",
        "drive.mount('/content/drive')"
      ],
      "metadata": {
        "colab": {
          "base_uri": "https://localhost:8080/"
        },
        "id": "G4-HVvw9BOQK",
        "outputId": "bd8c5ac0-5998-4af8-e9a5-4a08f977ba16"
      },
      "execution_count": null,
      "outputs": [
        {
          "output_type": "stream",
          "name": "stdout",
          "text": [
            "Mounted at /content/drive\n"
          ]
        }
      ]
    },
    {
      "cell_type": "code",
      "source": [
        "print(x_train.class_indices)#checking the number of classes"
      ],
      "metadata": {
        "colab": {
          "base_uri": "https://localhost:8080/"
        },
        "id": "YETzYxv9vVDR",
        "outputId": "6f49e49d-1cb8-4204-ddd7-19c9529301e3"
      },
      "execution_count": null,
      "outputs": [
        {
          "output_type": "stream",
          "name": "stdout",
          "text": [
            "{'Cyclone': 0, 'Earthquake': 1, 'Flood': 2, 'Wildfire': 3}\n"
          ]
        }
      ]
    },
    {
      "cell_type": "code",
      "source": [
        "print(x_test.class_indices)#checking the number of classes"
      ],
      "metadata": {
        "colab": {
          "base_uri": "https://localhost:8080/"
        },
        "id": "JN6YK9AOvplK",
        "outputId": "e6b12730-a643-4695-d4de-503e195395db"
      },
      "execution_count": null,
      "outputs": [
        {
          "output_type": "stream",
          "name": "stdout",
          "text": [
            "{'Cyclone': 0, 'Earthquake': 1, 'Flood': 2, 'Wildfire': 3}\n"
          ]
        }
      ]
    },
    {
      "cell_type": "code",
      "source": [
        "from collections import Counter as c\n",
        "c(x_train .labels)"
      ],
      "metadata": {
        "colab": {
          "base_uri": "https://localhost:8080/"
        },
        "id": "2_KCXnnCvvLz",
        "outputId": "bcd23cbc-c5e4-4d59-ef8e-509e9b6baadf"
      },
      "execution_count": null,
      "outputs": [
        {
          "output_type": "execute_result",
          "data": {
            "text/plain": [
              "Counter({0: 64, 1: 29, 2: 61, 3: 44})"
            ]
          },
          "metadata": {},
          "execution_count": 20
        }
      ]
    },
    {
      "cell_type": "markdown",
      "source": [
        "**Creating the model**"
      ],
      "metadata": {
        "id": "5fcQsQmIwoZa"
      }
    },
    {
      "cell_type": "code",
      "source": [
        "# Initializing the CNN\n",
        "classifier = Sequential()\n",
        "\n",
        "# First convolution layer and poolingo\n",
        "classifier.add(Conv2D(32, (3, 3), input_shape=(64, 64, 3), activation='relu'))\n",
        "classifier.add(MaxPooling2D(pool_size=(2, 2)))\n",
        "classifier.add(Conv2D(32, (3, 3), input_shape=(64, 64, 3), activation='relu'))\n",
        "# Second convolution layer and pooling\n",
        "classifier.add(Conv2D(32, (3, 3), activation='relu'))\n",
        "# input_shape is going to be the pooled feature maps from the previous convolution layer\n",
        "classifier.add(MaxPooling2D(pool_size=(2, 2)))\n",
        "classifier.add(Conv2D(32, (3, 3), input_shape=(64, 64, 3), activation='relu'))\n",
        "\n",
        "# Flattening the layers\n",
        "classifier.add(Flatten())\n",
        "\n",
        "# Adding a fully connected layer\n",
        "classifier.add(Dense(units=128, activation='relu'))\n",
        "classifier.add(Dense(units=4, activation='softmax')) # softmax for more than 2"
      ],
      "metadata": {
        "id": "av4htZeuwqBj"
      },
      "execution_count": null,
      "outputs": []
    },
    {
      "cell_type": "code",
      "source": [
        "classifier.summary()#summary of our model"
      ],
      "metadata": {
        "colab": {
          "base_uri": "https://localhost:8080/"
        },
        "id": "yVxMkZWqxKS7",
        "outputId": "284455d1-e361-434b-84a5-482b89953b23"
      },
      "execution_count": null,
      "outputs": [
        {
          "output_type": "stream",
          "name": "stdout",
          "text": [
            "Model: \"sequential\"\n",
            "_________________________________________________________________\n",
            " Layer (type)                Output Shape              Param #   \n",
            "=================================================================\n",
            " conv2d (Conv2D)             (None, 62, 62, 32)        896       \n",
            "                                                                 \n",
            " max_pooling2d (MaxPooling2D  (None, 31, 31, 32)       0         \n",
            " )                                                               \n",
            "                                                                 \n",
            " conv2d_1 (Conv2D)           (None, 29, 29, 32)        9248      \n",
            "                                                                 \n",
            " conv2d_2 (Conv2D)           (None, 27, 27, 32)        9248      \n",
            "                                                                 \n",
            " max_pooling2d_1 (MaxPooling  (None, 13, 13, 32)       0         \n",
            " 2D)                                                             \n",
            "                                                                 \n",
            " conv2d_3 (Conv2D)           (None, 11, 11, 32)        9248      \n",
            "                                                                 \n",
            " flatten (Flatten)           (None, 3872)              0         \n",
            "                                                                 \n",
            " dense (Dense)               (None, 128)               495744    \n",
            "                                                                 \n",
            " dense_1 (Dense)             (None, 4)                 516       \n",
            "                                                                 \n",
            "=================================================================\n",
            "Total params: 524,900\n",
            "Trainable params: 524,900\n",
            "Non-trainable params: 0\n",
            "_________________________________________________________________\n"
          ]
        }
      ]
    },
    {
      "cell_type": "markdown",
      "source": [
        "**Compiling the model**"
      ],
      "metadata": {
        "id": "RpsTTxl1xTt0"
      }
    },
    {
      "cell_type": "code",
      "source": [
        "# Compiling the CNN\n",
        "# categorical_crossentropy for more than 2\n",
        "classifier.compile(optimizer='adam', loss='categorical_crossentropy', metrics=['accuracy']) "
      ],
      "metadata": {
        "id": "0OpO1BYfxRS4"
      },
      "execution_count": null,
      "outputs": []
    },
    {
      "cell_type": "markdown",
      "source": [
        "**Fitting the mode**l"
      ],
      "metadata": {
        "id": "UkAoC7E5xaa-"
      }
    },
    {
      "cell_type": "code",
      "source": [
        "classifier.fit_generator(\n",
        "        generator=x_train,steps_per_epoch = len(x_train),\n",
        "        epochs=40, validation_data=x_test,validation_steps = len(x_test))# No of images in test set"
      ],
      "metadata": {
        "colab": {
          "base_uri": "https://localhost:8080/"
        },
        "id": "txWxBG1rxbmR",
        "outputId": "245e32cf-2f14-4ec1-f49a-5f608eafdd11"
      },
      "execution_count": null,
      "outputs": [
        {
          "output_type": "stream",
          "name": "stderr",
          "text": [
            "/usr/local/lib/python3.7/dist-packages/ipykernel_launcher.py:3: UserWarning: `Model.fit_generator` is deprecated and will be removed in a future version. Please use `Model.fit`, which supports generators.\n",
            "  This is separate from the ipykernel package so we can avoid doing imports until\n"
          ]
        },
        {
          "output_type": "stream",
          "name": "stdout",
          "text": [
            "Epoch 1/40\n",
            "40/40 [==============================] - 70s 2s/step - loss: 1.3361 - accuracy: 0.3384 - val_loss: 1.2489 - val_accuracy: 0.3687\n",
            "Epoch 2/40\n",
            "40/40 [==============================] - 16s 393ms/step - loss: 1.3037 - accuracy: 0.3535 - val_loss: 1.2850 - val_accuracy: 0.4040\n",
            "Epoch 3/40\n",
            "40/40 [==============================] - 16s 395ms/step - loss: 1.0938 - accuracy: 0.5354 - val_loss: 0.8525 - val_accuracy: 0.6313\n",
            "Epoch 4/40\n",
            "40/40 [==============================] - 19s 479ms/step - loss: 0.9850 - accuracy: 0.6212 - val_loss: 0.7516 - val_accuracy: 0.7576\n",
            "Epoch 5/40\n",
            "40/40 [==============================] - 19s 482ms/step - loss: 0.7815 - accuracy: 0.7020 - val_loss: 1.0205 - val_accuracy: 0.5859\n",
            "Epoch 6/40\n",
            "40/40 [==============================] - 16s 390ms/step - loss: 0.7368 - accuracy: 0.7222 - val_loss: 1.1085 - val_accuracy: 0.6162\n",
            "Epoch 7/40\n",
            "40/40 [==============================] - 18s 461ms/step - loss: 0.9519 - accuracy: 0.6364 - val_loss: 0.7007 - val_accuracy: 0.7828\n",
            "Epoch 8/40\n",
            "40/40 [==============================] - 16s 401ms/step - loss: 0.7012 - accuracy: 0.7323 - val_loss: 1.0007 - val_accuracy: 0.5758\n",
            "Epoch 9/40\n",
            "40/40 [==============================] - 16s 409ms/step - loss: 0.8565 - accuracy: 0.6566 - val_loss: 0.7961 - val_accuracy: 0.6869\n",
            "Epoch 10/40\n",
            "40/40 [==============================] - 16s 404ms/step - loss: 0.7157 - accuracy: 0.7020 - val_loss: 0.7769 - val_accuracy: 0.6869\n",
            "Epoch 11/40\n",
            "40/40 [==============================] - 16s 394ms/step - loss: 0.6022 - accuracy: 0.7677 - val_loss: 0.6144 - val_accuracy: 0.7677\n",
            "Epoch 12/40\n",
            "40/40 [==============================] - 16s 400ms/step - loss: 0.5398 - accuracy: 0.7980 - val_loss: 0.8851 - val_accuracy: 0.7172\n",
            "Epoch 13/40\n",
            "40/40 [==============================] - 16s 398ms/step - loss: 0.6103 - accuracy: 0.7778 - val_loss: 0.4653 - val_accuracy: 0.8232\n",
            "Epoch 14/40\n",
            "40/40 [==============================] - 16s 402ms/step - loss: 0.5120 - accuracy: 0.8131 - val_loss: 0.4148 - val_accuracy: 0.8283\n",
            "Epoch 15/40\n",
            "40/40 [==============================] - 16s 401ms/step - loss: 0.4564 - accuracy: 0.8232 - val_loss: 0.3844 - val_accuracy: 0.8687\n",
            "Epoch 16/40\n",
            "40/40 [==============================] - 16s 405ms/step - loss: 0.4997 - accuracy: 0.8232 - val_loss: 0.4793 - val_accuracy: 0.8131\n",
            "Epoch 17/40\n",
            "40/40 [==============================] - 16s 402ms/step - loss: 0.5040 - accuracy: 0.7828 - val_loss: 0.4671 - val_accuracy: 0.8434\n",
            "Epoch 18/40\n",
            "40/40 [==============================] - 19s 482ms/step - loss: 0.4603 - accuracy: 0.8283 - val_loss: 0.2698 - val_accuracy: 0.8939\n",
            "Epoch 19/40\n",
            "40/40 [==============================] - 16s 398ms/step - loss: 0.4405 - accuracy: 0.8384 - val_loss: 0.2667 - val_accuracy: 0.9192\n",
            "Epoch 20/40\n",
            "40/40 [==============================] - 16s 401ms/step - loss: 0.3814 - accuracy: 0.8384 - val_loss: 0.4248 - val_accuracy: 0.8586\n",
            "Epoch 21/40\n",
            "40/40 [==============================] - 19s 479ms/step - loss: 0.3372 - accuracy: 0.8636 - val_loss: 0.4087 - val_accuracy: 0.8434\n",
            "Epoch 22/40\n",
            "40/40 [==============================] - 16s 396ms/step - loss: 0.4603 - accuracy: 0.8434 - val_loss: 0.5167 - val_accuracy: 0.7828\n",
            "Epoch 23/40\n",
            "40/40 [==============================] - 16s 400ms/step - loss: 0.3822 - accuracy: 0.8333 - val_loss: 0.4241 - val_accuracy: 0.8535\n",
            "Epoch 24/40\n",
            "40/40 [==============================] - 16s 388ms/step - loss: 0.3059 - accuracy: 0.8990 - val_loss: 0.3736 - val_accuracy: 0.8586\n",
            "Epoch 25/40\n",
            "40/40 [==============================] - 16s 396ms/step - loss: 0.2987 - accuracy: 0.9040 - val_loss: 0.2853 - val_accuracy: 0.8838\n",
            "Epoch 26/40\n",
            "40/40 [==============================] - 16s 395ms/step - loss: 0.5427 - accuracy: 0.8131 - val_loss: 1.1860 - val_accuracy: 0.7273\n",
            "Epoch 27/40\n",
            "40/40 [==============================] - 16s 408ms/step - loss: 0.6235 - accuracy: 0.8131 - val_loss: 1.1678 - val_accuracy: 0.6616\n",
            "Epoch 28/40\n",
            "40/40 [==============================] - 16s 405ms/step - loss: 0.4749 - accuracy: 0.8333 - val_loss: 0.3129 - val_accuracy: 0.8838\n",
            "Epoch 29/40\n",
            "40/40 [==============================] - 16s 405ms/step - loss: 0.2935 - accuracy: 0.8990 - val_loss: 0.6341 - val_accuracy: 0.7727\n",
            "Epoch 30/40\n",
            "40/40 [==============================] - 16s 401ms/step - loss: 0.3865 - accuracy: 0.8535 - val_loss: 0.3934 - val_accuracy: 0.8687\n",
            "Epoch 31/40\n",
            "40/40 [==============================] - 16s 409ms/step - loss: 0.2404 - accuracy: 0.9192 - val_loss: 0.3152 - val_accuracy: 0.8939\n",
            "Epoch 32/40\n",
            "40/40 [==============================] - 16s 399ms/step - loss: 0.1762 - accuracy: 0.9242 - val_loss: 0.3602 - val_accuracy: 0.8737\n",
            "Epoch 33/40\n",
            "40/40 [==============================] - 16s 402ms/step - loss: 0.3532 - accuracy: 0.8737 - val_loss: 0.4923 - val_accuracy: 0.8182\n",
            "Epoch 34/40\n",
            "40/40 [==============================] - 16s 394ms/step - loss: 0.3451 - accuracy: 0.8434 - val_loss: 0.8886 - val_accuracy: 0.7172\n",
            "Epoch 35/40\n",
            "40/40 [==============================] - 16s 387ms/step - loss: 0.3304 - accuracy: 0.8737 - val_loss: 0.4221 - val_accuracy: 0.8232\n",
            "Epoch 36/40\n",
            "40/40 [==============================] - 16s 401ms/step - loss: 0.2541 - accuracy: 0.9192 - val_loss: 0.1671 - val_accuracy: 0.9444\n",
            "Epoch 37/40\n",
            "40/40 [==============================] - 16s 395ms/step - loss: 0.1629 - accuracy: 0.9394 - val_loss: 0.2694 - val_accuracy: 0.9091\n",
            "Epoch 38/40\n",
            "40/40 [==============================] - 19s 474ms/step - loss: 0.1864 - accuracy: 0.9242 - val_loss: 0.0969 - val_accuracy: 0.9697\n",
            "Epoch 39/40\n",
            "40/40 [==============================] - 17s 421ms/step - loss: 0.2113 - accuracy: 0.9141 - val_loss: 0.6206 - val_accuracy: 0.8232\n",
            "Epoch 40/40\n",
            "40/40 [==============================] - 18s 457ms/step - loss: 0.2483 - accuracy: 0.9192 - val_loss: 0.3263 - val_accuracy: 0.8636\n"
          ]
        },
        {
          "output_type": "execute_result",
          "data": {
            "text/plain": [
              "<keras.callbacks.History at 0x7fe74fc02750>"
            ]
          },
          "metadata": {},
          "execution_count": 24
        }
      ]
    },
    {
      "cell_type": "markdown",
      "source": [
        "**Saving our model**"
      ],
      "metadata": {
        "id": "P9HYrCcRxyx9"
      }
    },
    {
      "cell_type": "code",
      "source": [
        "# Save the model\n",
        "classifier.save('disaster_f.h5')"
      ],
      "metadata": {
        "id": "e8FnGnb-xvcS"
      },
      "execution_count": null,
      "outputs": []
    },
    {
      "cell_type": "code",
      "source": [
        "model_json = classifier.to_json()\n",
        "with open(\"model-bw.json\", \"w\") as json_file:\n",
        "    json_file.write(model_json)"
      ],
      "metadata": {
        "id": "ge3ZJXMjx4F0"
      },
      "execution_count": null,
      "outputs": []
    },
    {
      "cell_type": "markdown",
      "source": [
        "\n",
        "**Predicting our results**"
      ],
      "metadata": {
        "id": "W7MipMx1x82z"
      }
    },
    {
      "cell_type": "code",
      "source": [
        "from tensorflow.keras.models import load_model\n",
        "from keras.preprocessing import image\n",
        "#model = load_model(\"disaster_f.h5\") #loading the model for testing"
      ],
      "metadata": {
        "id": "cXJaz4Zcx6JI"
      },
      "execution_count": null,
      "outputs": []
    },
    {
      "cell_type": "code",
      "source": [
        "from keras.models import Sequential\n",
        "from keras.layers import Dense, Dropout, Activation\n",
        "from keras.optimizers import SGD\n",
        "import keras\n",
        "import keras.utils\n",
        "from keras import utils as np_utils"
      ],
      "metadata": {
        "id": "QXYAl8MgA3ux"
      },
      "execution_count": null,
      "outputs": []
    },
    {
      "cell_type": "code",
      "source": [
        "img =keras.utils.load_img(r\"C:\\Users\\kavan\\Videos\\Captures\\AWS\\italy-earthquake-9109030.jpg\")#loading of the image\n",
        "x = keras.utils.img_to_array(img)#image to array\n",
        "x = np.expand_dims(x,axis = 0)#changing the shape\n",
        "pred = classifier.predict_classes(x)#predicting the classes"
      ],
      "metadata": {
        "id": "e1ZT9U1EyASf"
      },
      "execution_count": null,
      "outputs": []
    },
    {
      "cell_type": "code",
      "source": [
        "index=['Cyclone','Earthquake','Flood','Wildfire']\n",
        "result=str(index[pred[0]])\n",
        "result"
      ],
      "metadata": {
        "id": "4_KrYrVs2i_p"
      },
      "execution_count": null,
      "outputs": []
    },
    {
      "cell_type": "code",
      "source": [
        "!pip install jupyterthemes as jt"
      ],
      "metadata": {
        "id": "UwBnnsSF_B7H"
      },
      "execution_count": null,
      "outputs": []
    },
    {
      "cell_type": "code",
      "source": [],
      "metadata": {
        "id": "iY1b0Fxb_F-D"
      },
      "execution_count": null,
      "outputs": []
    }
  ]
}